{
 "cells": [
  {
   "cell_type": "markdown",
   "metadata": {},
   "source": [
    "RAG Pipeline Test with MongoDB Vector Store </br>\n",
    "Author: Sanjit Verma"
   ]
  },
  {
   "cell_type": "code",
   "execution_count": 167,
   "metadata": {},
   "outputs": [],
   "source": [
    "from langchain_mongodb import MongoDBAtlasVectorSearch\n",
    "from langchain_openai import OpenAIEmbeddings\n",
    "from pymongo import MongoClient\n",
    "import logging\n",
    "import os, pprint\n",
    "from langchain_core.output_parsers import StrOutputParser\n",
    "from langchain_core.runnables import RunnablePassthrough\n",
    "from langchain_openai import ChatOpenAI\n",
    "from langchain.prompts import PromptTemplate\n",
    "from dotenv import load_dotenv\n",
    "import openai\n",
    "from functools import lru_cache\n",
    "\n",
    "load_dotenv()\n",
    "logging.basicConfig(level=logging.INFO)\n",
    "logger = logging.getLogger()\n",
    "OPENAI_KEY = os.getenv(\"OPENAI_API_KEY\")\n",
    "MONGODB_URI = os.getenv('MONGODB_URI')\n",
    "db_name = os.getenv('MONGODB_DATABASE')\n",
    "collection_name = os.getenv('MONGODB_VECTORS')\n",
    "vector_search_idx = os.getenv('MONGODB_VECTOR_INDEX')\n",
    "openai.api_key = OPENAI_KEY"
   ]
  },
  {
   "cell_type": "code",
   "execution_count": 168,
   "metadata": {},
   "outputs": [],
   "source": [
    "# Connect to db\n",
    "client = MongoClient(MONGODB_URI)\n",
    "db = client[db_name]\n",
    "collection = db[collection_name]"
   ]
  },
  {
   "cell_type": "code",
   "execution_count": 169,
   "metadata": {},
   "outputs": [],
   "source": [
    "vector_search = MongoDBAtlasVectorSearch( # retrieve documents from MongoDB collection\n",
    "   embedding=OpenAIEmbeddings(disallowed_special=()),\n",
    "   collection=collection,\n",
    "   index_name=vector_search_idx,\n",
    ")\n",
    "\n",
    "retriever = vector_search.as_retriever( #This method configures the vector_search instance to retrieve documents based on similarity.\n",
    "   search_type = \"similarity\",\n",
    "   search_kwargs = {\"k\": 5, \"score_threshold\": 0.75} # top 10 most similar documents, , only return documents with a similarity score of 0.75 or higher \n",
    ")\n",
    "\n",
    "#Define the template used to format the input for the language model and provide a consistent response\n",
    "template = \"\"\"\n",
    "Use the following pieces of context to answer the question at the end.\n",
    "If you don't know the answer or if it is not provided in the context, just say that you don't know, don't try to make up an answer.\n",
    "If the answer is in the context, dont say mentioned in the context.\n",
    "Please provide a detailed explanation and if applicable, give examples or historical context.\n",
    "{context}\n",
    "Question: {question}\n",
    "\"\"\"\n",
    "\n",
    "custom_rag_prompt = PromptTemplate.from_template(template)\n",
    "llm = ChatOpenAI()\n",
    "\n",
    "def format_docs(docs):\n",
    "   return \"\\n\\n\".join(doc.page_content for doc in docs) # This function formats the documents retrieved from MongoDB into a single string with each document separated by two newlines. \n",
    "\n",
    "rag_chain = (\n",
    "   # retriever first gets all relevant documents, then that is passed to the next step in the chain which is formatting docs (denoted by |)\n",
    "   { \"context\": retriever | format_docs, \"question\": RunnablePassthrough()} #runnable passthrough is used to pass the question to the next step in the chain without mods\n",
    "   | custom_rag_prompt\n",
    "   | llm\n",
    "   | StrOutputParser()\n",
    ")\n",
    "\n",
    "# demonstrating caching of mongoDB queries + questions, very basic example actual \n",
    "MAX_CACHE_SIZE = 100\n",
    "@lru_cache(maxsize=MAX_CACHE_SIZE)\n",
    "def cached_query(question):\n",
    "    response = rag_chain.invoke(question)\n",
    "    return response\n",
    "\n",
    "RED = '\\033[91m'\n",
    "GREEN = '\\033[92m'\n",
    "YELLOW = '\\033[93m'\n",
    "RESET = '\\033[0m'\n"
   ]
  },
  {
   "cell_type": "code",
   "execution_count": 176,
   "metadata": {},
   "outputs": [
    {
     "name": "stdout",
     "output_type": "stream",
     "text": [
      "\u001b[93mCache Info: CacheInfo(hits=4, misses=3, maxsize=100, currsize=3)\u001b[0m\n",
      "\u001b[91mQuestion: Who He grew up in California, and for fun he enters sporting events\u001b[0m\n",
      "\u001b[92mAnswer: David Patterson grew up in California and enters sporting events for fun with his two adult sons.\u001b[0m\n"
     ]
    },
    {
     "name": "stderr",
     "output_type": "stream",
     "text": [
      "INFO:httpx:HTTP Request: POST https://api.openai.com/v1/embeddings \"HTTP/1.1 200 OK\"\n"
     ]
    },
    {
     "name": "stdout",
     "output_type": "stream",
     "text": [
      "\n",
      "Source documents:\n",
      "[Document(page_content='ing Academic Alumni Award. He grew up in California, and for fun he enters sporting events\\nwith his two adult sons, including weekly soccer games and charity bike rides.\\ni', metadata={'_id': {'$oid': '666fa4cea2d908b9bd45e77c'}, 'source': '/Users/sanjitverma/git/TAChatBot/saas-backend/pdfData/textbook.pdf', 'page': 2}),\n",
      " Document(page_content='his UC Berkeley dissertation research on mobile computing including the world’s ﬁrst mo-\\nbile graphical web browser (Top Gun Wingman on Palm Pilot), and co-founded a couple of\\nstartups that were artistic successes. He received his BS in electrical engineering and com-\\nputer science from MIT and his MS from the University of Illinois at Urbana-Champaign.\\nHe is also a classically-trained musician, freelance Music Director, and bilingual/bicultural\\n(Cuban-American) New Yorker transplanted to San Francisco.\\nDavid Patterson (pronouns: he, him) recently retired from a 40-year career as a Professor of\\nComputer Science at UC Berkeley. In the past, he served as Chair of Berkeley’s Computer\\nScience Division, Chair of the Computing Research Association, and President of the Asso-\\nciation for Computing Machinery. His best-known research projects are Reduced Instruction\\nSet Computers (RISC), Redundant Arrays of Inexpensive Disks (RAID), and Networks of\\nWorkstations (NOW). This research led to many papers, 6 books, and more than 35 hon-', metadata={'_id': {'$oid': '666fa4cea2d908b9bd45e77a'}, 'source': '/Users/sanjitverma/git/TAChatBot/saas-backend/pdfData/textbook.pdf', 'page': 2}),\n",
      " Document(page_content='ii', metadata={'_id': {'$oid': '666fa4cea2d908b9bd45e77d'}, 'source': '/Users/sanjitverma/git/TAChatBot/saas-backend/pdfData/textbook.pdf', 'page': 3}),\n",
      " Document(page_content='About the Authors\\nArmando Fox (pronouns: he, him, él) is a Professor of Computer Science, Diversity and Eq-\\nuity Ofﬁcer at both the EECS Department level and Campus level, and Faculty Advisor for\\nDigital Learning Strategy at UC Berkeley. He is an ACM Distinguished Scientist and in 2015\\nreceived the ACM Karl V . Karlstrom Outstanding Educator Award for his work on software\\nengineering education. During his previous time at Stanford, he received teaching and men-\\ntoring awards from the Associated Students of Stanford University, the Society of Women\\nEngineers, and Tau Beta Pi Engineering Honor Society. In 2016 he and co-author David Pat-\\nterson received the Most Promising New Textbook award (“Texty”) from the Textbook and\\nAcademic Authors Association for the First Edition of this book. In previous lives he helped\\ndesign the Intel Pentium Pro microprocessor, founded a successful startup to commercialize\\nhis UC Berkeley dissertation research on mobile computing including the world’s ﬁrst mo-', metadata={'_id': {'$oid': '666fa4cea2d908b9bd45e779'}, 'source': '/Users/sanjitverma/git/TAChatBot/saas-backend/pdfData/textbook.pdf', 'page': 2}),\n",
      " Document(page_content='Workstations (NOW). This research led to many papers, 6 books, and more than 35 hon-\\nors, including election to the National Academy of Engineering, the National Academy of\\nSciences, and the Silicon Valley Engineering Hall of Fame; being named a Fellow of the\\nComputer History Museum, ACM, IEEE, and both AAAS organizations; and most recently,\\nthe ACM A.M. Turing Award, shared with Prof. John Hennessy of Stanford University for\\ntheir work on RISC and their quantitative approach to computer architecture and design.\\nHis teaching awards include the UC Berkeley Distinguished Teaching Award, the ACM Karl\\nV . Karlstrom Outstanding Educator Award, the IEEE Mulligan Education Medal, and the\\nIEEE Undergraduate Teaching Award. Prior to winning the Textbook Excellence Award\\n(“Texty”) for this book, he received one for his pioneering textbook on computer architec-\\nture. He received all his degrees from UCLA, which awarded him an Outstanding Engineer-\\ning Academic Alumni Award. He grew up in California, and for fun he enters sporting events', metadata={'_id': {'$oid': '666fa4cea2d908b9bd45e77b'}, 'source': '/Users/sanjitverma/git/TAChatBot/saas-backend/pdfData/textbook.pdf', 'page': 2})]\n"
     ]
    }
   ],
   "source": [
    "question = \"Who grew up in California, and for fun he enters sporting events\"\n",
    "answer = cached_query(question) # convert question to embedding and he most relevant documents based on the query's embedding are fetched from the MongoDB collection \n",
    "\n",
    "\n",
    "print(f\"{YELLOW}Cache Info: {cached_query.cache_info()}{RESET}\")\n",
    "print(f\"{RED}Question: {question}{RESET}\")\n",
    "print(f\"{GREEN}Answer: {answer}{RESET}\")\n",
    "\n",
    "documents = retriever.get_relevant_documents(question)\n",
    "print(\"\\nSource documents:\")\n",
    "pprint.pprint(documents)"
   ]
  }
 ],
 "metadata": {
  "kernelspec": {
   "display_name": "Python 3",
   "language": "python",
   "name": "python3"
  },
  "language_info": {
   "codemirror_mode": {
    "name": "ipython",
    "version": 3
   },
   "file_extension": ".py",
   "mimetype": "text/x-python",
   "name": "python",
   "nbconvert_exporter": "python",
   "pygments_lexer": "ipython3",
   "version": "3.11.4"
  }
 },
 "nbformat": 4,
 "nbformat_minor": 2
}
